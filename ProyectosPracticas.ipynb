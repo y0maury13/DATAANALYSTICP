{
 "cells": [
  {
   "cell_type": "code",
   "execution_count": 6,
   "id": "830b767c-c4c0-4663-9401-d14b34d79f03",
   "metadata": {},
   "outputs": [],
   "source": [
    "import pandas as pd\n",
    "import numpy as np\n",
    "%matplotlib inline\n",
    "import matplotlib.pyplot as plt"
   ]
  },
  {
   "cell_type": "code",
   "execution_count": 7,
   "id": "b6b63bcb-efcb-4c10-bb54-b3e5052056d9",
   "metadata": {},
   "outputs": [],
   "source": [
    "df_datos=pd.read_csv('Uber Drives.csv')"
   ]
  },
  {
   "cell_type": "code",
   "execution_count": 8,
   "id": "ce848031-7352-41e1-99c0-4a298e386b5d",
   "metadata": {},
   "outputs": [
    {
     "data": {
      "text/html": [
       "<div>\n",
       "<style scoped>\n",
       "    .dataframe tbody tr th:only-of-type {\n",
       "        vertical-align: middle;\n",
       "    }\n",
       "\n",
       "    .dataframe tbody tr th {\n",
       "        vertical-align: top;\n",
       "    }\n",
       "\n",
       "    .dataframe thead th {\n",
       "        text-align: right;\n",
       "    }\n",
       "</style>\n",
       "<table border=\"1\" class=\"dataframe\">\n",
       "  <thead>\n",
       "    <tr style=\"text-align: right;\">\n",
       "      <th></th>\n",
       "      <th>START_DATE*</th>\n",
       "      <th>END_DATE*</th>\n",
       "      <th>CATEGORY*</th>\n",
       "      <th>START*</th>\n",
       "      <th>STOP*</th>\n",
       "      <th>MILES*</th>\n",
       "      <th>PURPOSE*</th>\n",
       "    </tr>\n",
       "  </thead>\n",
       "  <tbody>\n",
       "    <tr>\n",
       "      <th>0</th>\n",
       "      <td>1/1/2016 21:11</td>\n",
       "      <td>1/1/2016 21:17</td>\n",
       "      <td>Business</td>\n",
       "      <td>Fort Pierce</td>\n",
       "      <td>Fort Pierce</td>\n",
       "      <td>5.1</td>\n",
       "      <td>Meal/Entertain</td>\n",
       "    </tr>\n",
       "    <tr>\n",
       "      <th>1</th>\n",
       "      <td>1/2/2016 1:25</td>\n",
       "      <td>1/2/2016 1:37</td>\n",
       "      <td>Business</td>\n",
       "      <td>Fort Pierce</td>\n",
       "      <td>Fort Pierce</td>\n",
       "      <td>5.0</td>\n",
       "      <td>NaN</td>\n",
       "    </tr>\n",
       "    <tr>\n",
       "      <th>2</th>\n",
       "      <td>1/2/2016 20:25</td>\n",
       "      <td>1/2/2016 20:38</td>\n",
       "      <td>Business</td>\n",
       "      <td>Fort Pierce</td>\n",
       "      <td>Fort Pierce</td>\n",
       "      <td>4.8</td>\n",
       "      <td>Errand/Supplies</td>\n",
       "    </tr>\n",
       "    <tr>\n",
       "      <th>3</th>\n",
       "      <td>1/5/2016 17:31</td>\n",
       "      <td>1/5/2016 17:45</td>\n",
       "      <td>Business</td>\n",
       "      <td>Fort Pierce</td>\n",
       "      <td>Fort Pierce</td>\n",
       "      <td>4.7</td>\n",
       "      <td>Meeting</td>\n",
       "    </tr>\n",
       "    <tr>\n",
       "      <th>4</th>\n",
       "      <td>1/6/2016 14:42</td>\n",
       "      <td>1/6/2016 15:49</td>\n",
       "      <td>Business</td>\n",
       "      <td>Fort Pierce</td>\n",
       "      <td>West Palm Beach</td>\n",
       "      <td>63.7</td>\n",
       "      <td>Customer Visit</td>\n",
       "    </tr>\n",
       "    <tr>\n",
       "      <th>...</th>\n",
       "      <td>...</td>\n",
       "      <td>...</td>\n",
       "      <td>...</td>\n",
       "      <td>...</td>\n",
       "      <td>...</td>\n",
       "      <td>...</td>\n",
       "      <td>...</td>\n",
       "    </tr>\n",
       "    <tr>\n",
       "      <th>1151</th>\n",
       "      <td>12/31/2016 13:24</td>\n",
       "      <td>12/31/2016 13:42</td>\n",
       "      <td>Business</td>\n",
       "      <td>Kar?chi</td>\n",
       "      <td>Unknown Location</td>\n",
       "      <td>3.9</td>\n",
       "      <td>Temporary Site</td>\n",
       "    </tr>\n",
       "    <tr>\n",
       "      <th>1152</th>\n",
       "      <td>12/31/2016 15:03</td>\n",
       "      <td>12/31/2016 15:38</td>\n",
       "      <td>Business</td>\n",
       "      <td>Unknown Location</td>\n",
       "      <td>Unknown Location</td>\n",
       "      <td>16.2</td>\n",
       "      <td>Meeting</td>\n",
       "    </tr>\n",
       "    <tr>\n",
       "      <th>1153</th>\n",
       "      <td>12/31/2016 21:32</td>\n",
       "      <td>12/31/2016 21:50</td>\n",
       "      <td>Business</td>\n",
       "      <td>Katunayake</td>\n",
       "      <td>Gampaha</td>\n",
       "      <td>6.4</td>\n",
       "      <td>Temporary Site</td>\n",
       "    </tr>\n",
       "    <tr>\n",
       "      <th>1154</th>\n",
       "      <td>12/31/2016 22:08</td>\n",
       "      <td>12/31/2016 23:51</td>\n",
       "      <td>Business</td>\n",
       "      <td>Gampaha</td>\n",
       "      <td>Ilukwatta</td>\n",
       "      <td>48.2</td>\n",
       "      <td>Temporary Site</td>\n",
       "    </tr>\n",
       "    <tr>\n",
       "      <th>1155</th>\n",
       "      <td>Totals</td>\n",
       "      <td>NaN</td>\n",
       "      <td>NaN</td>\n",
       "      <td>NaN</td>\n",
       "      <td>NaN</td>\n",
       "      <td>12204.7</td>\n",
       "      <td>NaN</td>\n",
       "    </tr>\n",
       "  </tbody>\n",
       "</table>\n",
       "<p>1156 rows × 7 columns</p>\n",
       "</div>"
      ],
      "text/plain": [
       "           START_DATE*         END_DATE* CATEGORY*            START*  \\\n",
       "0       1/1/2016 21:11    1/1/2016 21:17  Business       Fort Pierce   \n",
       "1        1/2/2016 1:25     1/2/2016 1:37  Business       Fort Pierce   \n",
       "2       1/2/2016 20:25    1/2/2016 20:38  Business       Fort Pierce   \n",
       "3       1/5/2016 17:31    1/5/2016 17:45  Business       Fort Pierce   \n",
       "4       1/6/2016 14:42    1/6/2016 15:49  Business       Fort Pierce   \n",
       "...                ...               ...       ...               ...   \n",
       "1151  12/31/2016 13:24  12/31/2016 13:42  Business           Kar?chi   \n",
       "1152  12/31/2016 15:03  12/31/2016 15:38  Business  Unknown Location   \n",
       "1153  12/31/2016 21:32  12/31/2016 21:50  Business        Katunayake   \n",
       "1154  12/31/2016 22:08  12/31/2016 23:51  Business           Gampaha   \n",
       "1155            Totals               NaN       NaN               NaN   \n",
       "\n",
       "                 STOP*   MILES*         PURPOSE*  \n",
       "0          Fort Pierce      5.1   Meal/Entertain  \n",
       "1          Fort Pierce      5.0              NaN  \n",
       "2          Fort Pierce      4.8  Errand/Supplies  \n",
       "3          Fort Pierce      4.7          Meeting  \n",
       "4      West Palm Beach     63.7   Customer Visit  \n",
       "...                ...      ...              ...  \n",
       "1151  Unknown Location      3.9   Temporary Site  \n",
       "1152  Unknown Location     16.2          Meeting  \n",
       "1153           Gampaha      6.4   Temporary Site  \n",
       "1154         Ilukwatta     48.2   Temporary Site  \n",
       "1155               NaN  12204.7              NaN  \n",
       "\n",
       "[1156 rows x 7 columns]"
      ]
     },
     "execution_count": 8,
     "metadata": {},
     "output_type": "execute_result"
    }
   ],
   "source": [
    "df_datos"
   ]
  },
  {
   "cell_type": "code",
   "execution_count": 9,
   "id": "d133edd4-7fd3-459c-a813-d6c57b7892fd",
   "metadata": {},
   "outputs": [
    {
     "name": "stdout",
     "output_type": "stream",
     "text": [
      "<class 'pandas.core.frame.DataFrame'>\n",
      "RangeIndex: 1156 entries, 0 to 1155\n",
      "Data columns (total 7 columns):\n",
      " #   Column       Non-Null Count  Dtype  \n",
      "---  ------       --------------  -----  \n",
      " 0   START_DATE*  1156 non-null   object \n",
      " 1   END_DATE*    1155 non-null   object \n",
      " 2   CATEGORY*    1155 non-null   object \n",
      " 3   START*       1155 non-null   object \n",
      " 4   STOP*        1155 non-null   object \n",
      " 5   MILES*       1156 non-null   float64\n",
      " 6   PURPOSE*     653 non-null    object \n",
      "dtypes: float64(1), object(6)\n",
      "memory usage: 63.3+ KB\n"
     ]
    }
   ],
   "source": [
    "df_datos.info()"
   ]
  },
  {
   "cell_type": "code",
   "execution_count": 10,
   "id": "ae6f04e2-1dca-47c8-8c2e-3bd4e1e65f0f",
   "metadata": {},
   "outputs": [
    {
     "data": {
      "text/plain": [
       "<bound method NDFrame.head of            START_DATE*         END_DATE* CATEGORY*            START*  \\\n",
       "0       1/1/2016 21:11    1/1/2016 21:17  Business       Fort Pierce   \n",
       "1        1/2/2016 1:25     1/2/2016 1:37  Business       Fort Pierce   \n",
       "2       1/2/2016 20:25    1/2/2016 20:38  Business       Fort Pierce   \n",
       "3       1/5/2016 17:31    1/5/2016 17:45  Business       Fort Pierce   \n",
       "4       1/6/2016 14:42    1/6/2016 15:49  Business       Fort Pierce   \n",
       "...                ...               ...       ...               ...   \n",
       "1151  12/31/2016 13:24  12/31/2016 13:42  Business           Kar?chi   \n",
       "1152  12/31/2016 15:03  12/31/2016 15:38  Business  Unknown Location   \n",
       "1153  12/31/2016 21:32  12/31/2016 21:50  Business        Katunayake   \n",
       "1154  12/31/2016 22:08  12/31/2016 23:51  Business           Gampaha   \n",
       "1155            Totals               NaN       NaN               NaN   \n",
       "\n",
       "                 STOP*   MILES*         PURPOSE*  \n",
       "0          Fort Pierce      5.1   Meal/Entertain  \n",
       "1          Fort Pierce      5.0              NaN  \n",
       "2          Fort Pierce      4.8  Errand/Supplies  \n",
       "3          Fort Pierce      4.7          Meeting  \n",
       "4      West Palm Beach     63.7   Customer Visit  \n",
       "...                ...      ...              ...  \n",
       "1151  Unknown Location      3.9   Temporary Site  \n",
       "1152  Unknown Location     16.2          Meeting  \n",
       "1153           Gampaha      6.4   Temporary Site  \n",
       "1154         Ilukwatta     48.2   Temporary Site  \n",
       "1155               NaN  12204.7              NaN  \n",
       "\n",
       "[1156 rows x 7 columns]>"
      ]
     },
     "execution_count": 10,
     "metadata": {},
     "output_type": "execute_result"
    }
   ],
   "source": [
    "df_datos.head"
   ]
  },
  {
   "cell_type": "code",
   "execution_count": 11,
   "id": "abf594f1-d9d2-4282-8d66-af611e498711",
   "metadata": {},
   "outputs": [
    {
     "name": "stdout",
     "output_type": "stream",
     "text": [
      "           START_DATE*         END_DATE* CATEGORY*            START*  \\\n",
      "0       1/1/2016 21:11    1/1/2016 21:17  Business       Fort Pierce   \n",
      "1        1/2/2016 1:25     1/2/2016 1:37  Business       Fort Pierce   \n",
      "2       1/2/2016 20:25    1/2/2016 20:38  Business       Fort Pierce   \n",
      "3       1/5/2016 17:31    1/5/2016 17:45  Business       Fort Pierce   \n",
      "4       1/6/2016 14:42    1/6/2016 15:49  Business       Fort Pierce   \n",
      "...                ...               ...       ...               ...   \n",
      "1151  12/31/2016 13:24  12/31/2016 13:42  Business           Kar?chi   \n",
      "1152  12/31/2016 15:03  12/31/2016 15:38  Business  Unknown Location   \n",
      "1153  12/31/2016 21:32  12/31/2016 21:50  Business        Katunayake   \n",
      "1154  12/31/2016 22:08  12/31/2016 23:51  Business           Gampaha   \n",
      "1155            Totals               NaN       NaN               NaN   \n",
      "\n",
      "                 STOP*   MILES*         PURPOSE*  \n",
      "0          Fort Pierce      5.1   Meal/Entertain  \n",
      "1          Fort Pierce      5.0              NaN  \n",
      "2          Fort Pierce      4.8  Errand/Supplies  \n",
      "3          Fort Pierce      4.7          Meeting  \n",
      "4      West Palm Beach     63.7   Customer Visit  \n",
      "...                ...      ...              ...  \n",
      "1151  Unknown Location      3.9   Temporary Site  \n",
      "1152  Unknown Location     16.2          Meeting  \n",
      "1153           Gampaha      6.4   Temporary Site  \n",
      "1154         Ilukwatta     48.2   Temporary Site  \n",
      "1155               NaN  12204.7              NaN  \n",
      "\n",
      "[1156 rows x 7 columns]\n"
     ]
    }
   ],
   "source": [
    "print(df_datos)"
   ]
  },
  {
   "cell_type": "code",
   "execution_count": 12,
   "id": "a44e1c83-6958-4710-9739-8d4ab795a36d",
   "metadata": {},
   "outputs": [
    {
     "name": "stdout",
     "output_type": "stream",
     "text": [
      "             MILES*\n",
      "count   1156.000000\n",
      "mean      21.115398\n",
      "std      359.299007\n",
      "min        0.500000\n",
      "25%        2.900000\n",
      "50%        6.000000\n",
      "75%       10.400000\n",
      "max    12204.700000\n"
     ]
    }
   ],
   "source": [
    "print(df_datos.describe())"
   ]
  },
  {
   "cell_type": "code",
   "execution_count": 13,
   "id": "7fc0f1c6-2b68-4b26-85e9-a592ca13a162",
   "metadata": {},
   "outputs": [
    {
     "name": "stdout",
     "output_type": "stream",
     "text": [
      "<class 'pandas.core.frame.DataFrame'>\n",
      "RangeIndex: 1156 entries, 0 to 1155\n",
      "Data columns (total 7 columns):\n",
      " #   Column       Non-Null Count  Dtype  \n",
      "---  ------       --------------  -----  \n",
      " 0   START_DATE*  1156 non-null   object \n",
      " 1   END_DATE*    1155 non-null   object \n",
      " 2   CATEGORY*    1155 non-null   object \n",
      " 3   START*       1155 non-null   object \n",
      " 4   STOP*        1155 non-null   object \n",
      " 5   MILES*       1156 non-null   float64\n",
      " 6   PURPOSE*     653 non-null    object \n",
      "dtypes: float64(1), object(6)\n",
      "memory usage: 63.3+ KB\n"
     ]
    }
   ],
   "source": [
    "df_datos.info(['START*'])"
   ]
  },
  {
   "cell_type": "code",
   "execution_count": 14,
   "id": "5ab1a86a-1d3f-407b-a167-9d8f7ce671d8",
   "metadata": {},
   "outputs": [
    {
     "name": "stdout",
     "output_type": "stream",
     "text": [
      "<class 'pandas.core.frame.DataFrame'>\n",
      "RangeIndex: 1156 entries, 0 to 1155\n",
      "Data columns (total 7 columns):\n",
      " #   Column       Non-Null Count  Dtype  \n",
      "---  ------       --------------  -----  \n",
      " 0   START_DATE*  1156 non-null   object \n",
      " 1   END_DATE*    1155 non-null   object \n",
      " 2   CATEGORY*    1155 non-null   object \n",
      " 3   START*       1155 non-null   object \n",
      " 4   STOP*        1155 non-null   object \n",
      " 5   MILES*       1156 non-null   float64\n",
      " 6   PURPOSE*     653 non-null    object \n",
      "dtypes: float64(1), object(6)\n",
      "memory usage: 63.3+ KB\n"
     ]
    }
   ],
   "source": [
    "df_datos.info(['CATEGORY*'])"
   ]
  },
  {
   "cell_type": "code",
   "execution_count": 15,
   "id": "e04d9a8a-4729-4fbe-9240-9ee9b12199a9",
   "metadata": {},
   "outputs": [
    {
     "name": "stdout",
     "output_type": "stream",
     "text": [
      "      START_DATE*       END_DATE* CATEGORY*       START*            STOP*  \\\n",
      "0  1/1/2016 21:11  1/1/2016 21:17  Business  Fort Pierce      Fort Pierce   \n",
      "1   1/2/2016 1:25   1/2/2016 1:37  Business  Fort Pierce      Fort Pierce   \n",
      "2  1/2/2016 20:25  1/2/2016 20:38  Business  Fort Pierce      Fort Pierce   \n",
      "3  1/5/2016 17:31  1/5/2016 17:45  Business  Fort Pierce      Fort Pierce   \n",
      "4  1/6/2016 14:42  1/6/2016 15:49  Business  Fort Pierce  West Palm Beach   \n",
      "\n",
      "   MILES*         PURPOSE*  \n",
      "0     5.1   Meal/Entertain  \n",
      "1     5.0              NaN  \n",
      "2     4.8  Errand/Supplies  \n",
      "3     4.7          Meeting  \n",
      "4    63.7   Customer Visit  \n"
     ]
    }
   ],
   "source": [
    "print(df_datos.head())"
   ]
  },
  {
   "cell_type": "code",
   "execution_count": 16,
   "id": "512a49c7-3f69-422f-9b3b-59c47b6be07e",
   "metadata": {},
   "outputs": [
    {
     "name": "stdout",
     "output_type": "stream",
     "text": [
      "0       Business\n",
      "1       Business\n",
      "2       Business\n",
      "3       Business\n",
      "4       Business\n",
      "          ...   \n",
      "1151    Business\n",
      "1152    Business\n",
      "1153    Business\n",
      "1154    Business\n",
      "1155         NaN\n",
      "Name: CATEGORY*, Length: 1156, dtype: object\n"
     ]
    }
   ],
   "source": [
    "print(df_datos[\"CATEGORY*\"])"
   ]
  },
  {
   "cell_type": "code",
   "execution_count": 17,
   "id": "ae24a1ee-2345-4d7f-8622-549c090ccd04",
   "metadata": {},
   "outputs": [
    {
     "name": "stdout",
     "output_type": "stream",
     "text": [
      "           START_DATE*         END_DATE* CATEGORY*            START*  \\\n",
      "0       1/1/2016 21:11    1/1/2016 21:17  Business       Fort Pierce   \n",
      "1        1/2/2016 1:25     1/2/2016 1:37  Business       Fort Pierce   \n",
      "2       1/2/2016 20:25    1/2/2016 20:38  Business       Fort Pierce   \n",
      "3       1/5/2016 17:31    1/5/2016 17:45  Business       Fort Pierce   \n",
      "4       1/6/2016 14:42    1/6/2016 15:49  Business       Fort Pierce   \n",
      "...                ...               ...       ...               ...   \n",
      "1151  12/31/2016 13:24  12/31/2016 13:42  Business           Kar?chi   \n",
      "1152  12/31/2016 15:03  12/31/2016 15:38  Business  Unknown Location   \n",
      "1153  12/31/2016 21:32  12/31/2016 21:50  Business        Katunayake   \n",
      "1154  12/31/2016 22:08  12/31/2016 23:51  Business           Gampaha   \n",
      "1155            Totals               NaN       NaN               NaN   \n",
      "\n",
      "                 STOP*   MILES*         PURPOSE*  \n",
      "0          Fort Pierce      5.1   Meal/Entertain  \n",
      "1          Fort Pierce      5.0              NaN  \n",
      "2          Fort Pierce      4.8  Errand/Supplies  \n",
      "3          Fort Pierce      4.7          Meeting  \n",
      "4      West Palm Beach     63.7   Customer Visit  \n",
      "...                ...      ...              ...  \n",
      "1151  Unknown Location      3.9   Temporary Site  \n",
      "1152  Unknown Location     16.2          Meeting  \n",
      "1153           Gampaha      6.4   Temporary Site  \n",
      "1154         Ilukwatta     48.2   Temporary Site  \n",
      "1155               NaN  12204.7              NaN  \n",
      "\n",
      "[1156 rows x 7 columns]\n"
     ]
    }
   ],
   "source": [
    "print(df_datos)"
   ]
  },
  {
   "cell_type": "code",
   "execution_count": 18,
   "id": "ed2bcab4-9409-45a7-8f59-c2f095a5922d",
   "metadata": {},
   "outputs": [
    {
     "name": "stdout",
     "output_type": "stream",
     "text": [
      "0         1/1/2016 21:11\n",
      "1          1/2/2016 1:25\n",
      "2         1/2/2016 20:25\n",
      "3         1/5/2016 17:31\n",
      "4         1/6/2016 14:42\n",
      "              ...       \n",
      "1151    12/31/2016 13:24\n",
      "1152    12/31/2016 15:03\n",
      "1153    12/31/2016 21:32\n",
      "1154    12/31/2016 22:08\n",
      "1155              Totals\n",
      "Name: START_DATE*, Length: 1156, dtype: object\n"
     ]
    }
   ],
   "source": [
    "print(df_datos[\"START_DATE*\"])"
   ]
  },
  {
   "cell_type": "code",
   "execution_count": 20,
   "id": "90d17be7-4bde-4a05-b3ae-9fe699cfa024",
   "metadata": {},
   "outputs": [],
   "source": [
    "df_datos.to_excel('df_datoss.xlsx', index=False)"
   ]
  },
  {
   "cell_type": "code",
   "execution_count": null,
   "id": "e459849b-6e2f-48a9-81ea-11bee10a19c8",
   "metadata": {},
   "outputs": [],
   "source": []
  }
 ],
 "metadata": {
  "kernelspec": {
   "display_name": "Python 3 (ipykernel)",
   "language": "python",
   "name": "python3"
  },
  "language_info": {
   "codemirror_mode": {
    "name": "ipython",
    "version": 3
   },
   "file_extension": ".py",
   "mimetype": "text/x-python",
   "name": "python",
   "nbconvert_exporter": "python",
   "pygments_lexer": "ipython3",
   "version": "3.10.9"
  }
 },
 "nbformat": 4,
 "nbformat_minor": 5
}
